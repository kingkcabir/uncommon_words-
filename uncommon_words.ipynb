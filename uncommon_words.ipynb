{
 "cells": [
  {
   "cell_type": "code",
   "execution_count": 23,
   "id": "61cbc15e",
   "metadata": {},
   "outputs": [
    {
     "name": "stdout",
     "output_type": "stream",
     "text": [
      "your sentence_1: this apple is sour\n",
      "your sentence_2: this apple is sweet\n",
      "['sour', 'sweet']\n"
     ]
    }
   ],
   "source": [
    "class Solution:\n",
    "    def uncommonFromSentences(self, s1: str, s2: str) -> list[str]:\n",
    "        merged_strings = s1.split() + s2.split()\n",
    "        count = {}\n",
    "        for words in merged_strings:\n",
    "            count[words] = count.get(words, 0) + 1\n",
    "\n",
    "        unc_words = [words for words, text in count.items() if text == 1]\n",
    "        return unc_words\n",
    "\n",
    "s1 = str(input(\"your sentence_1: \"))\n",
    "s2 = str(input(\"your sentence_2: \"))\n",
    "print(Solution().uncommonFromSentences(s1, s2))"
   ]
  },
  {
   "cell_type": "code",
   "execution_count": null,
   "id": "bbdfafc8",
   "metadata": {},
   "outputs": [],
   "source": []
  }
 ],
 "metadata": {
  "kernelspec": {
   "display_name": "Python 3 (ipykernel)",
   "language": "python",
   "name": "python3"
  },
  "language_info": {
   "codemirror_mode": {
    "name": "ipython",
    "version": 3
   },
   "file_extension": ".py",
   "mimetype": "text/x-python",
   "name": "python",
   "nbconvert_exporter": "python",
   "pygments_lexer": "ipython3",
   "version": "3.11.4"
  }
 },
 "nbformat": 4,
 "nbformat_minor": 5
}
